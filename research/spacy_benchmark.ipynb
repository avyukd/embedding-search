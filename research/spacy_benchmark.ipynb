{
 "cells": [
  {
   "cell_type": "code",
   "execution_count": 37,
   "metadata": {},
   "outputs": [],
   "source": [
    "import spacy\n",
    "import nltk\n",
    "import string\n",
    "import numpy as np\n",
    "import pickle\n",
    "import matplotlib.pyplot as plt"
   ]
  },
  {
   "cell_type": "code",
   "execution_count": 2,
   "metadata": {},
   "outputs": [],
   "source": [
    "%load_ext autoreload\n",
    "%aimport embedding_search\n",
    "import embedding_search as es"
   ]
  },
  {
   "cell_type": "code",
   "execution_count": 3,
   "metadata": {},
   "outputs": [],
   "source": [
    "nlp = spacy.load('en_core_web_lg')"
   ]
  },
  {
   "cell_type": "code",
   "execution_count": 4,
   "metadata": {},
   "outputs": [],
   "source": [
    "def preprocess(chunk: str):\n",
    "    chunk = chunk.lower()\n",
    "    chunk = chunk.translate(str.maketrans('', '', string.punctuation))\n",
    "    return chunk\n",
    "\n",
    "def get_vector(chunk: str, nlp):\n",
    "    preprocessed = preprocess(chunk)\n",
    "    tokens = nltk.word_tokenize(preprocessed)\n",
    "    token_embeddings = []\n",
    "    for token in tokens:\n",
    "        vec = nlp(token).vector\n",
    "        if np.all(vec == 0):\n",
    "            continue\n",
    "        token_embeddings.append(vec)\n",
    "    return np.mean(token_embeddings, axis=0)\n",
    "\n",
    "# checks if cosine similarity scores are calculated correctly\n",
    "def verify_cos_sim_calc(closest: list[tuple[float, str]], search_key: list[float], eps: float = 1e-5) -> bool: \n",
    "    for i in range(len(closest)):\n",
    "        score, sentence = closest[i]\n",
    "        returned_vec = get_vector(sentence, nlp)\n",
    "        cos_sim = np.dot(search_key, returned_vec) / (np.linalg.norm(returned_vec) * np.linalg.norm(search_key))\n",
    "        if abs(score - (1 - cos_sim)) > eps:\n",
    "            print(f\"Expected: {score}, Actual: {1 - cos_sim}\")\n",
    "            return False\n",
    "    return True\n",
    "    "
   ]
  },
  {
   "cell_type": "code",
   "execution_count": 5,
   "metadata": {},
   "outputs": [
    {
     "name": "stderr",
     "output_type": "stream",
     "text": [
      "  2%|▏         | 620/32039 [00:21<14:37, 35.82it/s]/opt/homebrew/lib/python3.11/site-packages/numpy/core/fromnumeric.py:3504: RuntimeWarning: Mean of empty slice.\n",
      "  return _methods._mean(a, axis=axis, dtype=dtype,\n",
      "/opt/homebrew/lib/python3.11/site-packages/numpy/core/_methods.py:129: RuntimeWarning: invalid value encountered in scalar divide\n",
      "  ret = ret.dtype.type(ret / rcount)\n",
      "100%|██████████| 32039/32039 [19:12<00:00, 27.80it/s]\n"
     ]
    },
    {
     "data": {
      "text/plain": [
       "32039"
      ]
     },
     "execution_count": 5,
     "metadata": {},
     "output_type": "execute_result"
    }
   ],
   "source": [
    "from tqdm import tqdm\n",
    "\n",
    "# prepare sample data\n",
    "# data = open(\"interstellar_raw.txt\").read()\n",
    "# LINES_PER_CHUNK = 3\n",
    "# lines = data.split(\"\\n\")\n",
    "# chunks = []\n",
    "# for i in range(0, len(lines), LINES_PER_CHUNK):\n",
    "#     chunk = \" \".join(lines[i:i+LINES_PER_CHUNK])\n",
    "#     # remove punctuation\n",
    "#     chunk = preprocess(chunk)\n",
    "#     chunks.append(chunk)\n",
    "\n",
    "# tokenized_chunks = [nltk.word_tokenize(chunk) for chunk in chunks]\n",
    "\n",
    "# data = open(\"harry-potter-1.txt\").read()\n",
    "data = open(\"war-and-peace.txt\").read()\n",
    "\n",
    "sentences = nltk.sent_tokenize(data)\n",
    "preprocessed_sentences = [preprocess(sentence) for sentence in sentences]\n",
    "\n",
    "# embeddings\n",
    "embeddings = []\n",
    "for sentence in tqdm(preprocessed_sentences):\n",
    "    embeddings.append(get_vector(sentence, nlp))\n",
    "len(embeddings)"
   ]
  },
  {
   "cell_type": "code",
   "execution_count": 6,
   "metadata": {},
   "outputs": [],
   "source": [
    "filtered_embeddings, filtered_sentences = [], []\n",
    "for i, embedding in enumerate(embeddings):\n",
    "    if np.isnan(embedding).any():\n",
    "        continue\n",
    "    filtered_embeddings.append(embedding)\n",
    "    filtered_sentences.append(preprocessed_sentences[i])"
   ]
  },
  {
   "cell_type": "code",
   "execution_count": 7,
   "metadata": {},
   "outputs": [
    {
     "data": {
      "text/plain": [
       "(31952, 31952)"
      ]
     },
     "execution_count": 7,
     "metadata": {},
     "output_type": "execute_result"
    }
   ],
   "source": [
    "len(filtered_embeddings), len(filtered_sentences)"
   ]
  },
  {
   "cell_type": "code",
   "execution_count": 8,
   "metadata": {},
   "outputs": [],
   "source": [
    "with open(\"filtered_embeddings.pkl\", \"wb\") as f:\n",
    "    pickle.dump(filtered_embeddings, f)\n",
    "with open(\"filtered_sentences.pkl\", \"wb\") as f:\n",
    "    pickle.dump(filtered_sentences, f)"
   ]
  },
  {
   "cell_type": "code",
   "execution_count": null,
   "metadata": {},
   "outputs": [],
   "source": [
    "filtered_sentences = pickle.load(open(\"filtered_sentences.pkl\", \"rb\"))\n",
    "filtered_embeddings = pickle.load(open(\"filtered_embeddings.pkl\", \"rb\"))"
   ]
  },
  {
   "cell_type": "code",
   "execution_count": 11,
   "metadata": {},
   "outputs": [],
   "source": [
    "store = es.EmbeddingStore(\"test/\", 300, 1024 * 1024 * 64, 1024 * 1024 * 8)"
   ]
  },
  {
   "cell_type": "markdown",
   "metadata": {},
   "source": [
    "## Basic Tests"
   ]
  },
  {
   "cell_type": "code",
   "execution_count": 12,
   "metadata": {},
   "outputs": [
    {
     "name": "stdout",
     "output_type": "stream",
     "text": [
      "38446800 bytes needed for embdedings\n",
      "3173797 bytes needed for values\n"
     ]
    }
   ],
   "source": [
    "print(f\"{len(embeddings) * len(embeddings[0]) * 4} bytes needed for embdedings\")\n",
    "print(f\"{len(preprocessed_sentences) * 4 + sum([len(sentence) for sentence in preprocessed_sentences])} bytes needed for values\")"
   ]
  },
  {
   "cell_type": "code",
   "execution_count": 13,
   "metadata": {},
   "outputs": [],
   "source": [
    "for sentence, embedding in zip(filtered_sentences, filtered_embeddings):\n",
    "    try:\n",
    "        store.addEmbedding(embedding, sentence)\n",
    "    except Exception as e:\n",
    "        print(e)\n"
   ]
  },
  {
   "cell_type": "code",
   "execution_count": 14,
   "metadata": {},
   "outputs": [
    {
     "data": {
      "text/plain": [
       "True"
      ]
     },
     "execution_count": 14,
     "metadata": {},
     "output_type": "execute_result"
    }
   ],
   "source": [
    "search_key = get_vector(\"the great war began\", nlp)\n",
    "closest = store.getKClosest(search_key, 10, 1, es.EmbeddingStore.DistanceMetric.cosine_similarity)\n",
    "verify_cos_sim_calc(closest, search_key)"
   ]
  },
  {
   "cell_type": "code",
   "execution_count": null,
   "metadata": {},
   "outputs": [],
   "source": [
    "closest"
   ]
  },
  {
   "cell_type": "code",
   "execution_count": null,
   "metadata": {},
   "outputs": [],
   "source": [
    "for i in range(len(closest)):\n",
    "    sentence = closest[i][1]\n",
    "    # print(sentence)\n",
    "    idx = preprocessed_sentences.index(sentence)\n",
    "    \n",
    "    embedding = embeddings[idx]\n",
    "    returned_vec = get_vector(sentence, nlp)\n",
    "\n",
    "    cos_sim = np.dot(search_key, returned_vec) / (np.linalg.norm(returned_vec) * np.linalg.norm(search_key))\n",
    "    print(np.all(returned_vec == embedding))\n",
    "    print(1 - cos_sim)"
   ]
  },
  {
   "cell_type": "markdown",
   "metadata": {},
   "source": [
    "## Speed Benchmarking"
   ]
  },
  {
   "cell_type": "code",
   "execution_count": 16,
   "metadata": {},
   "outputs": [],
   "source": [
    "hp_queries = [\n",
    "    \"What chapter does Harry first meet Hagrid in 'Harry Potter and the Sorcerer's Stone'?\",\n",
    "    \"In which chapter does Harry receive his acceptance letter to Hogwarts?\",\n",
    "    \"Can you find the passage where Harry gets his wand from Ollivanders?\",\n",
    "    \"What page does Harry receive his Hogwarts letter from Hagrid?\",\n",
    "    \"Where in the book does Harry first discover he is a wizard?\",\n",
    "    \"What chapter does Harry first enter the magical world through Diagon Alley?\",\n",
    "    \"Can you locate the scene where Harry tries on the Sorting Hat?\",\n",
    "    \"Where does Harry first meet Ron and Hermione in the book?\",\n",
    "    \"What page does Harry first see the Mirror of Erised?\",\n",
    "    \"Can you find the passage where Harry learns about Nicolas Flamel?\",\n",
    "    \"Where in the book does Harry first encounter the troll in the dungeon?\",\n",
    "    \"What chapter does Harry play his first Quidditch match?\",\n",
    "    \"Can you locate the scene where Harry discovers the truth about the Sorcerer's Stone?\",\n",
    "    \"What page does Harry confront Professor Quirrell in the Forbidden Forest?\",\n",
    "    \"Where in the book does Harry encounter Fluffy, the three-headed dog?\",\n",
    "    \"What chapter does Harry face Professor Snape in a wizard's duel?\",\n",
    "    \"Can you find the passage where Harry finds out about the Philosopher's Stone's protective enchantments?\",\n",
    "    \"Where does Harry have his first Potions class?\",\n",
    "    \"What page does Harry receive his Nimbus 2000 broomstick?\",\n",
    "    \"Can you locate the scene where Harry visits Hagrid's hut for the first time?\",\n",
    "    \"What chapter does Harry discover the secret about the Forbidden Corridor?\",\n",
    "    \"In which chapter does Harry first meet Draco Malfoy?\",\n",
    "    \"Can you find the passage where Harry learns about the Hogwarts Houses?\",\n",
    "    \"Where in the book does Harry first encounter Peeves the Poltergeist?\",\n",
    "    \"What page does Harry learn about the rules of Quidditch?\",\n",
    "    \"Can you locate the scene where Harry receives his first letter from Hogwarts?\",\n",
    "    \"Where in the book does Harry meet the Weasley family for the first time?\",\n",
    "    \"What chapter does Harry attend his first Transfiguration class?\",\n",
    "    \"Can you find the passage where Harry visits Gringotts Wizarding Bank?\",\n",
    "    \"What page does Harry receive his Hogwarts Express ticket?\",\n",
    "    \"Where in the book does Harry meet the centaur, Firenze?\",\n",
    "    \"What chapter does Harry first hear about the Sorcerer's Stone?\",\n",
    "    \"Can you locate the scene where Harry sees the Hogwarts Express for the first time?\",\n",
    "    \"Where in the book does Harry learn about the Forbidden Forest?\",\n",
    "    \"What page does Harry encounter the giant chess set?\",\n",
    "    \"Can you find the passage where Harry receives his Invisibility Cloak?\",\n",
    "    \"Where does Harry first encounter the moving staircases of Hogwarts?\",\n",
    "    \"What chapter does Harry meet Neville Longbottom?\",\n",
    "    \"Can you locate the scene where Harry sees the Hogwarts sorting ceremony?\",\n",
    "    \"Where in the book does Harry first learn about the House Cup competition?\",\n",
    "    \"What page does Harry discover the secret about the Philosopher's Stone?\",\n",
    "    \"Can you find the passage where Harry explores the Hogwarts library?\",\n",
    "    \"Where does Harry have his first Defense Against the Dark Arts class?\",\n",
    "    \"What chapter does Harry attend his first Herbology class?\",\n",
    "    \"Can you locate the scene where Harry visits Hagrid's hut at night?\",\n",
    "    \"Where in the book does Harry first encounter the portrait of the Fat Lady?\",\n",
    "    \"What page does Harry learn about the concept of a Muggle?\",\n",
    "    \"Can you find the passage where Harry learns about Platform Nine and Three-Quarters?\",\n",
    "    \"Where does Harry first learn about the concept of magic?\"\n",
    "]\n",
    "\n",
    "war_and_peace_queries = [\n",
    "    \"Where can I find the passage describing Pierre Bezukhov's first encounter with Natasha Rostova?\",\n",
    "    \"What page has the scene where Prince Andrei Bolkonsky meets Natasha Rostova at the ball?\",\n",
    "    \"In which chapter does Pierre Bezukhov have a conversation with Prince Andrei about life and philosophy?\",\n",
    "    \"Can you locate the scene where Natasha Rostova dances with Prince Andrei at a ball?\",\n",
    "    \"What page describes the moment when Pierre Bezukhov inherits his father's wealth?\",\n",
    "    \"Where in the book does Prince Andrei Bolkonsky join the Russian army and goes to war?\",\n",
    "    \"What chapter contains the scene where Pierre Bezukhov attends a Freemason meeting?\",\n",
    "    \"Can you find the passage where Natasha Rostova receives a marriage proposal from Prince Andrei?\",\n",
    "    \"Where does Pierre Bezukhov marry Helene Kuragina in the book?\",\n",
    "    \"What page has the description of the Battle of Borodino?\",\n",
    "    \"In which chapter does Prince Andrei get wounded in the Battle of Borodino?\",\n",
    "    \"Can you locate the scene where Natasha Rostova takes care of wounded soldiers during the war?\",\n",
    "    \"What page describes the moment when Pierre Bezukhov is captured by the French army?\",\n",
    "    \"Where in the book does Prince Andrei have his spiritual awakening?\",\n",
    "    \"What chapter contains the scene where Pierre Bezukhov confronts Napoleon Bonaparte?\",\n",
    "    \"Can you find the passage where Natasha Rostova reunites with Prince Andrei after the war?\",\n",
    "    \"Where does Pierre Bezukhov experience imprisonment and hardship in the book?\",\n",
    "    \"What page has the description of the burning of Moscow?\",\n",
    "    \"In which chapter does Pierre Bezukhov meet Platon Karataev?\",\n",
    "    \"Can you locate the scene where Natasha Rostova learns about Prince Andrei's death?\",\n",
    "    \"What page describes the moment when Pierre Bezukhov is reunited with Natasha Rostova?\",\n",
    "    \"Where in the book does Natasha Rostova forgive Pierre Bezukhov for his past mistakes?\",\n",
    "    \"What chapter contains the scene where Pierre Bezukhov reflects on the nature of freedom and responsibility?\",\n",
    "    \"Can you find the passage where Prince Andrei's son, Nikolenka, is born?\",\n",
    "    \"Where does Natasha Rostova experience personal growth and maturity in the book?\",\n",
    "    \"What page has the description of Pierre Bezukhov's reconciliation with his illegitimate son?\",\n",
    "    \"In which chapter does Natasha Rostova reflect on the meaning of life and happiness?\",\n",
    "    \"Can you locate the scene where Pierre Bezukhov reflects on the lessons learned from his life's journey?\",\n",
    "    \"What page describes the moment when Natasha Rostova finds inner peace and contentment?\",\n",
    "    \"Where in the book does Pierre Bezukhov contemplate the significance of mortality and legacy?\",\n",
    "    \"What chapter contains the scene where Natasha Rostova embraces her role as a wife and mother?\",\n",
    "    \"Can you find the passage where Pierre Bezukhov's legacy lives on through his children?\",\n",
    "    \"Where does Prince Andrei's sister, Princess Marya, experience personal transformation in the book?\",\n",
    "    \"What page has the description of Pierre Bezukhov's final moments?\",\n",
    "    \"In which chapter does Natasha Rostova find solace and fulfillment in her family life?\",\n",
    "    \"Can you locate the scene where Pierre Bezukhov's ideals and values endure beyond his death?\",\n",
    "    \"What page describes the moment when Natasha Rostova reflects on the beauty of life's simplicity?\",\n",
    "    \"Where in the book does Prince Andrei's memory continue to inspire those who knew him?\",\n",
    "    \"What chapter contains the scene where Pierre Bezukhov's ideals and values endure beyond his death?\",\n",
    "    \"Can you find the passage where Natasha Rostova finds strength and resilience in times of adversity?\",\n",
    "    \"Where does the novel \\\"War and Peace\\\" offer insights into the human condition and the nature of existence?\",\n",
    "    \"What page has the description of the timeless themes explored in \\\"War and Peace\\\"?\",\n",
    "    \"In which chapter does the novel \\\"War and Peace\\\" depict the interconnectedness of human lives?\",\n",
    "    \"Can you locate the scene where the characters in \\\"War and Peace\\\" grapple with the complexities of love and morality?\",\n",
    "    \"What page describes the richness of Tolstoy's prose and narrative style in \\\"War and Peace\\\"?\",\n",
    "    \"Where in the book does \\\"War and Peace\\\" offer profound insights into the historical events of the Napoleonic Wars?\",\n",
    "    \"What chapter contains the scene where \\\"War and Peace\\\" delves into the philosophical underpinnings of human existence?\",\n",
    "    \"Can you find the passage where \\\"War and Peace\\\" explores the transformative power of personal growth and enlightenment?\",\n",
    "    \"Where does \\\"War and Peace\\\" present a panoramic view of Russian society and culture?\",\n",
    "    \"What page has the description of the novel \\\"War and Peace\\\" as a timeless masterpiece of world literature?\",\n",
    "    \"In which chapter does \\\"War and Peace\\\" challenge conventional notions of heroism and greatness?\",\n",
    "    \"Can you locate the scene where \\\"War and Peace\\\" celebrates the resilience of the human spirit in the face of adversity?\",\n",
    "    \"What page describes the complexity and depth of the characters in \\\"War and Peace\\\"?\",\n",
    "    \"Where in the book does \\\"War and Peace\\\" depict the interplay between fate and free will?\",\n",
    "    \"What chapter contains the scene where \\\"War and Peace\\\" offers profound reflections on the meaning of life and death?\",\n",
    "    \"Can you find the passage where \\\"War and Peace\\\" showcases Tolstoy's mastery of storytelling and narrative technique?\",\n",
    "    \"Where does \\\"War and Peace\\\" explore the themes of love, betrayal, and forgiveness?\",\n",
    "    \"What page has the description of the enduring relevance of \\\"War and Peace\\\" in today's world?\",\n",
    "    \"In which chapter does \\\"War and Peace\\\" illustrate the power of human connection and compassion?\",\n",
    "    \"Can you locate the scene where \\\"War and Peace\\\" captures the beauty and tragedy of the human experience?\",\n",
    "    \"What page describes the epic scope and ambition of Tolstoy's vision in \\\"War and Peace\\\"?\",\n",
    "    \"Where in the book does \\\"War and Peace\\\" offer insights into the nature of power and politics?\",\n",
    "    \"What chapter contains the scene where \\\"War and Peace\\\" explores the dynamics of family and society?\",\n",
    "    \"Can you find the passage where \\\"War and Peace\\\" highlights the importance of moral integrity and ethical behavior?\",\n",
    "    \"Where does the novel \\\"War and Peace\\\" delve into the complexities of friendship and loyalty?\",\n",
    "    \"What page has the description of the existential themes present in \\\"War and Peace\\\"?\",\n",
    "    \"In which chapter does the novel \\\"War and Peace\\\" depict the struggles of individuals against societal norms?\",\n",
    "    \"Can you locate the scene where \\\"War and Peace\\\" examines the role of religion and spirituality in people's lives?\",\n",
    "    \"What page describes the impact of historical events on personal destinies in \\\"War and Peace\\\"?\",\n",
    "    \"Where in the book does \\\"War and Peace\\\" showcase the consequences of ambition and greed?\",\n",
    "    \"What chapter contains the scene where \\\"War and Peace\\\" explores the concept of identity and self-discovery?\",\n",
    "    \"Can you find the passage where \\\"War and Peace\\\" emphasizes the importance of empathy and understanding?\",\n",
    "    \"Where does the novel \\\"War and Peace\\\" offer commentary on the nature of leadership and governance?\",\n",
    "    \"What page has the description of the novel's portrayal of the Russian landscape and environment?\",\n",
    "    \"In which chapter does \\\"War and Peace\\\" examine the complexities of class and social hierarchy?\",\n",
    "    \"Can you locate the scene where \\\"War and Peace\\\" reflects on the fleeting nature of human existence?\",\n",
    "    \"What page describes the significance of historical accuracy in Tolstoy's depiction of the Napoleonic Wars?\",\n",
    "    \"Where in the book does \\\"War and Peace\\\" depict the effects of war on civilian populations?\",\n",
    "    \"What chapter contains the scene where \\\"War and Peace\\\" celebrates the resilience of the human spirit?\",\n",
    "    \"Can you find the passage where \\\"War and Peace\\\" examines the tension between individual desires and societal expectations?\",\n",
    "    \"Where does the novel \\\"War and Peace\\\" present contrasting perspectives on morality and ethics?\",\n",
    "    \"What page has the description of the novel's exploration of the nature of truth and perception?\",\n",
    "    \"In which chapter does \\\"War and Peace\\\" challenge traditional notions of heroism and valor?\",\n",
    "    \"Can you locate the scene where \\\"War and Peace\\\" reflects on the cyclical nature of history?\",\n",
    "    \"What page describes the novel's portrayal of the complexities of human relationships?\",\n",
    "    \"Where in the book does \\\"War and Peace\\\" offer commentary on the inevitability of change and transformation?\",\n",
    "    \"What chapter contains the scene where \\\"War and Peace\\\" explores the concept of destiny and free will?\",\n",
    "    \"Can you find the passage where \\\"War and Peace\\\" examines the role of art and literature in society?\",\n",
    "    \"Where does the novel \\\"War and Peace\\\" critique the institutions of war and governance?\",\n",
    "    \"What page has the description of the novel's exploration of the nature of beauty and aesthetics?\",\n",
    "    \"In which chapter does \\\"War and Peace\\\" emphasize the importance of personal integrity and honor?\",\n",
    "    \"Can you locate the scene where \\\"War and Peace\\\" depicts the struggles of ordinary people amidst extraordinary circumstances?\",\n",
    "    \"What page describes the novel's commentary on the futility of human endeavors?\",\n",
    "    \"Where in the book does \\\"War and Peace\\\" examine the intersection of love and duty?\",\n",
    "    \"What chapter contains the scene where \\\"War and Peace\\\" offers insights into the psychology of human behavior?\",\n",
    "    \"Can you find the passage where \\\"War and Peace\\\" reflects on the complexities of human emotion?\",\n",
    "    \"Where does the novel \\\"War and Peace\\\" present contrasting views on the nature of heroism?\",\n",
    "    \"What page has the description of the novel's exploration of the concept of honor?\",\n",
    "    \"In which chapter does \\\"War and Peace\\\" challenge traditional gender roles and expectations?\",\n",
    "    \"Can you locate the scene where \\\"War and Peace\\\" explores the theme of sacrifice?\",\n",
    "    \"What page describes the novel's examination of the impact of war on individuals?\",\n",
    "    \"Where in the book does \\\"War and Peace\\\" reflect on the relationship between power and corruption?\",\n",
    "    \"What chapter contains the scene where \\\"War and Peace\\\" portrays the resilience of the human spirit?\",\n",
    "    \"Can you find the passage where \\\"War and Peace\\\" examines the nature of forgiveness?\",\n",
    "    \"Where does the novel \\\"War and Peace\\\" offer commentary on the pursuit of happiness?\",\n",
    "    \"What page has the description of the novel's exploration of the nature of suffering?\",\n",
    "    \"In which chapter does \\\"War and Peace\\\" depict the tension between tradition and progress?\",\n",
    "    \"Can you locate the scene where \\\"War and Peace\\\" reflects on the inevitability of death?\",\n",
    "    \"What page describes the novel's portrayal of the impact of societal norms on individual lives?\",\n",
    "    \"Where in the book does \\\"War and Peace\\\" examine the concept of justice?\",\n",
    "    \"What chapter contains the scene where \\\"War and Peace\\\" explores the theme of redemption?\",\n",
    "    \"Can you find the passage where \\\"War and Peace\\\" examines the concept of identity?\",\n",
    "    \"Where does the novel \\\"War and Peace\\\" offer commentary on the nature of leadership?\",\n",
    "    \"What page has the description of the novel's examination of the role of chance in human affairs?\",\n",
    "    \"In which chapter does \\\"War and Peace\\\" explore the theme of existentialism?\",\n",
    "    \"Can you locate the scene where \\\"War and Peace\\\" reflects on the relationship between war and peace?\",\n",
    "    \"What page describes the novel's portrayal of the human capacity for resilience?\",\n",
    "    \"Where in the book does \\\"War and Peace\\\" examine the theme of disillusionment?\",\n",
    "    \"What chapter contains the scene where \\\"War and Peace\\\" explores the concept of destiny?\",\n",
    "    \"Can you find the passage where \\\"War and Peace\\\" examines the theme of friendship?\",\n",
    "    \"Where does the novel \\\"War and Peace\\\" offer commentary on the nature of truth?\",\n",
    "    \"What page has the description of the novel's exploration of the concept of beauty?\",\n",
    "    \"In which chapter does \\\"War and Peace\\\" depict the theme of betrayal?\",\n",
    "    \"Can you locate the scene where \\\"War and Peace\\\" reflects on the concept of legacy?\",\n",
    "    \"What page describes the novel's portrayal of the human capacity for love?\",\n",
    "    \"Where in the book does \\\"War and Peace\\\" explore the theme of identity?\",\n",
    "    \"What chapter contains the scene where \\\"War and Peace\\\" examines the concept of sacrifice?\",\n",
    "    \"Can you find the passage where \\\"War and Peace\\\" explores the theme of family?\",\n",
    "    \"Where does the novel \\\"War and Peace\\\" offer commentary on the nature of power?\",\n",
    "    \"What page has the description of the novel's exploration of the concept of fate?\",\n",
    "    \"In which chapter does \\\"War and Peace\\\" depict the theme of forgiveness?\",\n",
    "    \"Can you locate the scene where \\\"War and Peace\\\" reflects on the concept of honor?\",\n",
    "    \"What page describes the novel's portrayal of the theme of redemption?\",\n",
    "    \"Where in the book does \\\"War and Peace\\\" explore the theme of suffering?\",\n",
    "    \"What chapter contains the scene where \\\"War and Peace\\\" examines the concept of justice?\",\n",
    "    \"Can you find the passage where \\\"War and Peace\\\" explores the theme of friendship?\",\n",
    "    \"Where does the novel \\\"War and Peace\\\" offer commentary on the theme of loyalty?\",\n",
    "    \"What page has the description of the novel's exploration of the concept of duty?\",\n",
    "    \"In which chapter does \\\"War and Peace\\\" depict the theme of courage?\",\n",
    "    \"Can you locate the scene where \\\"War and Peace\\\" reflects on the concept of fate?\",\n",
    "    \"What page describes the novel's portrayal of the theme of resilience?\",\n",
    "    \"Where in the book does \\\"War and Peace\\\" explore the theme of ambition?\",\n",
    "    \"What chapter contains the scene where \\\"War and Peace\\\" examines the concept of love?\",\n",
    "    \"Can you find the passage where \\\"War and Peace\\\" explores the theme of betrayal?\",\n",
    "    \"Where does the novel \\\"War and Peace\\\" offer commentary on the theme of legacy?\",\n",
    "    \"What page has the description of the novel's exploration of the concept of freedom?\",\n",
    "    \"In which chapter does \\\"War and Peace\\\" depict the theme of compassion?\",\n",
    "    \"Can you locate the scene where \\\"War and Peace\\\" reflects on the concept of mortality?\",\n",
    "    \"What page describes the novel's portrayal of the theme of transformation?\",\n",
    "    \"Where in the book does \\\"War and Peace\\\" explore the theme of identity?\",\n",
    "    \"What chapter contains the scene where \\\"War and Peace\\\" examines the concept of power?\",\n",
    "    \"Can you find the passage where \\\"War and Peace\\\" explores the theme of wisdom?\",\n",
    "    \"Where does the novel \\\"War and Peace\\\" offer commentary on the theme of truth?\",\n",
    "    \"What page has the description of the novel's exploration of the concept of happiness?\",\n",
    "    \"In which chapter does \\\"War and Peace\\\" depict the theme of suffering?\",\n",
    "    \"Can you locate the scene where \\\"War and Peace\\\" reflects on the concept of honor?\",\n",
    "    \"What page describes the novel's portrayal of the theme of courage?\",\n",
    "    \"Where in the book does \\\"War and Peace\\\" explore the theme of fate?\",\n",
    "    \"What chapter contains the scene where \\\"War and Peace\\\" examines the concept of loyalty?\",\n",
    "    \"Can you find the passage where \\\"War and Peace\\\" explores the theme of duty?\",\n",
    "    \"Where does the novel \\\"War and Peace\\\" offer commentary on the theme of justice?\",\n",
    "    \"What page has the description of the novel's exploration of the concept of destiny?\",\n",
    "    \"In which chapter does \\\"War and Peace\\\" depict the theme of compassion?\",\n",
    "    \"Can you locate the scene where \\\"War and Peace\\\" reflects on the concept of resilience?\",\n",
    "    \"What page describes the novel's portrayal of the theme of transformation?\",\n",
    "    \"Where in the book does \\\"War and Peace\\\" explore the theme of love?\",\n",
    "    \"What chapter contains the scene where \\\"War and Peace\\\" examines the concept of power?\",\n",
    "    \"Can you find the passage where \\\"War and Peace\\\" explores the theme of wisdom?\",\n",
    "    \"Where does the novel \\\"War and Peace\\\" offer commentary on the theme of truth?\",\n",
    "    \"What page has the description of the novel's exploration of the concept of happiness?\",\n",
    "    \"In which chapter does \\\"War and Peace\\\" depict the theme of suffering?\",\n",
    "    \"Can you locate the scene where \\\"War and Peace\\\" reflects on the concept of honor?\",\n",
    "    \"What page describes the novel's portrayal of the theme of courage?\",\n",
    "    \"Where in the book does \\\"War and Peace\\\" explore the theme of fate?\",\n",
    "    \"What chapter contains the scene where \\\"War and Peace\\\" examines the concept of loyalty?\",\n",
    "    \"Can you find the passage where \\\"War and Peace\\\" explores the theme of duty?\",\n",
    "    \"Where does the novel \\\"War and Peace\\\" offer commentary on the theme of justice?\",\n",
    "    \"What page has the description of the novel's exploration of the concept of destiny?\",\n",
    "    \"In which chapter does \\\"War and Peace\\\" depict the theme of compassion?\",\n",
    "    \"Can you locate the scene where \\\"War and Peace\\\" reflects on the concept of resilience?\",\n",
    "    \"What page describes the novel's portrayal of the theme of transformation?\",\n",
    "    \"Where in the book does \\\"War and Peace\\\" explore the theme of love?\",\n",
    "    \"What chapter contains the scene where \\\"War and Peace\\\" examines the concept of power?\",\n",
    "    \"Can you find the passage where \\\"War and Peace\\\" explores the theme of wisdom?\",\n",
    "    \"Where does the novel \\\"War and Peace\\\" offer commentary on the theme of truth?\",\n",
    "    \"What page has the description of the novel's exploration of the concept of happiness?\",\n",
    "    \"In which chapter does \\\"War and Peace\\\" depict the theme of suffering?\",\n",
    "    \"Can you locate the scene where \\\"War and Peace\\\" reflects on the concept of honor?\",\n",
    "    \"What page describes the novel's portrayal of the theme of courage?\",\n",
    "    \"Where in the book does \\\"War and Peace\\\" explore the theme of fate?\",\n",
    "    \"What chapter contains the scene where \\\"War and Peace\\\" examines the concept of loyalty?\",\n",
    "    \"Can you find the passage where \\\"War and Peace\\\" explores the theme of duty?\",\n",
    "    \"Where does the novel \\\"War and Peace\\\" offer commentary on the theme of justice?\",\n",
    "    \"What page has the description of the novel's exploration of the concept of destiny?\",\n",
    "    \"In which chapter does \\\"War and Peace\\\" depict the theme of compassion?\",\n",
    "    \"Can you locate the scene where \\\"War and Peace\\\" reflects on the concept of resilience?\",\n",
    "    \"What page describes the novel's portrayal of the theme of transformation?\",\n",
    "    \"Where in the book does \\\"War and Peace\\\" explore the theme of love?\",\n",
    "    \"What chapter contains the scene where \\\"War and Peace\\\" examines the concept of power?\",\n",
    "    \"Can you find the passage where \\\"War and Peace\\\" explores the theme of wisdom?\"\n",
    "]"
   ]
  },
  {
   "cell_type": "code",
   "execution_count": 26,
   "metadata": {},
   "outputs": [],
   "source": [
    "#%%timeit\n",
    "k = 8\n",
    "mmap_results = []\n",
    "for query in war_and_peace_queries:\n",
    "    search_key = get_vector(query, nlp)\n",
    "    closest = store.getKClosest(search_key, k, 4, es.EmbeddingStore.DistanceMetric.cosine_similarity)\n",
    "    mmap_results.append(closest)\n",
    "    # assert(verify_cos_sim_calc(closest, search_key))"
   ]
  },
  {
   "cell_type": "code",
   "execution_count": null,
   "metadata": {},
   "outputs": [],
   "source": [
    "store.close()"
   ]
  },
  {
   "cell_type": "markdown",
   "metadata": {},
   "source": [
    "## How long do other vector stores take?"
   ]
  },
  {
   "cell_type": "code",
   "execution_count": null,
   "metadata": {},
   "outputs": [],
   "source": [
    "!pip install chromadb"
   ]
  },
  {
   "cell_type": "code",
   "execution_count": 21,
   "metadata": {},
   "outputs": [
    {
     "data": {
      "text/plain": [
       "0"
      ]
     },
     "execution_count": 21,
     "metadata": {},
     "output_type": "execute_result"
    }
   ],
   "source": [
    "## Chroma\n",
    "import chromadb\n",
    "chroma_client = chromadb.PersistentClient(\"chroma-test/\")\n",
    "collection = chroma_client.get_or_create_collection(\n",
    "    name=\"war-and-peace-test\",\n",
    "    metadata={\n",
    "        \"hnsw:space\": \"cosine\"\n",
    "    }\n",
    ")\n",
    "collection.count()"
   ]
  },
  {
   "cell_type": "code",
   "execution_count": 22,
   "metadata": {},
   "outputs": [],
   "source": [
    "embedding_list = [\n",
    "    [float(x) for x in embedding_arr] for embedding_arr in filtered_embeddings\n",
    "]\n",
    "\n",
    "collection.add(\n",
    "    embeddings=embedding_list,\n",
    "    documents=filtered_sentences,\n",
    "    ids=[str(i) for i in range(len(filtered_sentences))]\n",
    ")\n",
    "\n",
    "# idx = 0\n",
    "# for (em, sent) in zip(embedding_list, filtered_sentences):\n",
    "#     collection.add(\n",
    "#         embeddings=em,\n",
    "#         documents=sent,\n",
    "#         ids=str(idx)\n",
    "#     )\n",
    "#     idx += 1"
   ]
  },
  {
   "cell_type": "code",
   "execution_count": 23,
   "metadata": {},
   "outputs": [
    {
     "data": {
      "text/plain": [
       "31952"
      ]
     },
     "execution_count": 23,
     "metadata": {},
     "output_type": "execute_result"
    }
   ],
   "source": [
    "collection.count()"
   ]
  },
  {
   "cell_type": "code",
   "execution_count": 29,
   "metadata": {},
   "outputs": [],
   "source": [
    "# %%timeit\n",
    "chroma_results = []\n",
    "for query in war_and_peace_queries:\n",
    "    search_key = get_vector(query, nlp)\n",
    "    float_search_key = [float(x) for x in search_key]\n",
    "    chroma_results.append(collection.query(query_embeddings=[float_search_key], n_results=8))"
   ]
  },
  {
   "cell_type": "code",
   "execution_count": 26,
   "metadata": {},
   "outputs": [],
   "source": [
    "chroma_client.delete_collection(\"hp-test\")"
   ]
  },
  {
   "cell_type": "code",
   "execution_count": 34,
   "metadata": {},
   "outputs": [],
   "source": [
    "mean_diffs = []\n",
    "for mmap_result, chroma_result in zip(mmap_results, chroma_results):\n",
    "    mmap_dists = [p[0] for p in mmap_result]\n",
    "    chroma_dists = chroma_result[\"distances\"][0]\n",
    "    diff = np.array(mmap_dists) - np.array(chroma_dists)\n",
    "    mean_diffs.append(np.mean(diff))"
   ]
  },
  {
   "cell_type": "code",
   "execution_count": 38,
   "metadata": {},
   "outputs": [
    {
     "data": {
      "text/plain": [
       "(array([ 1.,  0.,  0.,  0.,  0.,  0.,  0.,  0.,  0.,  0.,  0.,  0.,  0.,\n",
       "         0.,  0.,  0.,  0.,  0.,  0.,  0.,  1.,  0.,  0.,  0.,  0.,  0.,\n",
       "         0.,  0.,  0.,  0.,  0.,  0.,  0.,  0.,  1.,  1.,  1.,  0.,  1.,\n",
       "         1.,  1.,  2.,  4.,  3.,  2.,  8., 12., 29., 41., 91.]),\n",
       " array([-1.72785991e-02, -1.69330188e-02, -1.65874385e-02, -1.62418583e-02,\n",
       "        -1.58962780e-02, -1.55506977e-02, -1.52051174e-02, -1.48595371e-02,\n",
       "        -1.45139568e-02, -1.41683765e-02, -1.38227962e-02, -1.34772160e-02,\n",
       "        -1.31316357e-02, -1.27860554e-02, -1.24404751e-02, -1.20948948e-02,\n",
       "        -1.17493145e-02, -1.14037342e-02, -1.10581540e-02, -1.07125737e-02,\n",
       "        -1.03669934e-02, -1.00214131e-02, -9.67583281e-03, -9.33025252e-03,\n",
       "        -8.98467224e-03, -8.63909195e-03, -8.29351167e-03, -7.94793138e-03,\n",
       "        -7.60235109e-03, -7.25677081e-03, -6.91119052e-03, -6.56561023e-03,\n",
       "        -6.22002995e-03, -5.87444966e-03, -5.52886937e-03, -5.18328909e-03,\n",
       "        -4.83770880e-03, -4.49212852e-03, -4.14654823e-03, -3.80096794e-03,\n",
       "        -3.45538766e-03, -3.10980737e-03, -2.76422708e-03, -2.41864680e-03,\n",
       "        -2.07306651e-03, -1.72748623e-03, -1.38190594e-03, -1.03632565e-03,\n",
       "        -6.90745367e-04, -3.45165080e-04,  4.15205934e-07]),\n",
       " <BarContainer object of 50 artists>)"
      ]
     },
     "execution_count": 38,
     "metadata": {},
     "output_type": "execute_result"
    },
    {
     "data": {
      "image/png": "[encoded data removed]",
      "text/plain": [
       "<Figure size 640x480 with 1 Axes>"
      ]
     },
     "metadata": {},
     "output_type": "display_data"
    }
   ],
   "source": [
    "plt.hist(mean_diffs, bins=50)"
   ]
  },
  {
   "cell_type": "code",
   "execution_count": null,
   "metadata": {},
   "outputs": [],
   "source": []
  }
 ],
 "metadata": {
  "kernelspec": {
   "display_name": "Python 3",
   "language": "python",
   "name": "python3"
  },
  "language_info": {
   "codemirror_mode": {
    "name": "ipython",
    "version": 3
   },
   "file_extension": ".py",
   "mimetype": "text/x-python",
   "name": "python",
   "nbconvert_exporter": "python",
   "pygments_lexer": "ipython3",
   "version": "3.11.5"
  }
 },
 "nbformat": 4,
 "nbformat_minor": 2
}
